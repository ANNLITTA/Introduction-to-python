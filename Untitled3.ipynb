{
  "nbformat": 4,
  "nbformat_minor": 0,
  "metadata": {
    "colab": {
      "provenance": [],
      "authorship_tag": "ABX9TyNC9cYR60i7ihiFKPdb46pE",
      "include_colab_link": true
    },
    "kernelspec": {
      "name": "python3",
      "display_name": "Python 3"
    },
    "language_info": {
      "name": "python"
    }
  },
  "cells": [
    {
      "cell_type": "markdown",
      "metadata": {
        "id": "view-in-github",
        "colab_type": "text"
      },
      "source": [
        "<a href=\"https://colab.research.google.com/github/ANNLITTA/Introduction-to-python/blob/main/Untitled3.ipynb\" target=\"_parent\"><img src=\"https://colab.research.google.com/assets/colab-badge.svg\" alt=\"Open In Colab\"/></a>"
      ]
    },
    {
      "cell_type": "code",
      "execution_count": null,
      "metadata": {
        "id": "YlJSakOUdBkw"
      },
      "outputs": [],
      "source": []
    },
    {
      "cell_type": "markdown",
      "source": [
        "simple program\n"
      ],
      "metadata": {
        "id": "bqWS53cMhkGV"
      }
    },
    {
      "cell_type": "code",
      "source": [
        "name=input(\"enter the name\")\n",
        "print(name)"
      ],
      "metadata": {
        "colab": {
          "base_uri": "https://localhost:8080/"
        },
        "id": "Mvc_0KkthoSn",
        "outputId": "2b2ce264-c91d-46d0-dc13-005b1ac1ae22"
      },
      "execution_count": 1,
      "outputs": [
        {
          "output_type": "stream",
          "name": "stdout",
          "text": [
            "enter the nameAnnlitta\n",
            "Annlitta\n"
          ]
        }
      ]
    },
    {
      "cell_type": "code",
      "source": [
        "mark1=int(input(\"enter the mark \"))\n",
        "mark2=int(input(\"enter the mark \"))\n",
        "mark3=int(input(\"enter the mark \"))\n",
        "total=mark1=mark2=mark3\n",
        "print(total)"
      ],
      "metadata": {
        "colab": {
          "base_uri": "https://localhost:8080/"
        },
        "id": "bdoLBV9KiPnR",
        "outputId": "7f15fac4-8d37-4672-82ae-a4c3352a9b01"
      },
      "execution_count": 9,
      "outputs": [
        {
          "output_type": "stream",
          "name": "stdout",
          "text": [
            "enter the mark 45\n",
            "enter the mark 25\n",
            "enter the mark 40\n",
            "40\n"
          ]
        }
      ]
    },
    {
      "cell_type": "code",
      "source": [
        "num1=int(input(\"enter first number\"))\n",
        "num2=int(input(\"enter second number\"))\n",
        "if num1>num2:\n",
        "  print(\"the num 1 is greater\")\n",
        "else:\n",
        "  print(\"the num 2 is greater\")"
      ],
      "metadata": {
        "colab": {
          "base_uri": "https://localhost:8080/"
        },
        "id": "v9Xji-QtjlnQ",
        "outputId": "68df81a6-fcdb-40aa-fb7d-d0b6ad434e00"
      },
      "execution_count": 12,
      "outputs": [
        {
          "output_type": "stream",
          "name": "stdout",
          "text": [
            "enter first number30\n",
            "enter second number20\n",
            "the num 1 is greater\n"
          ]
        }
      ]
    },
    {
      "cell_type": "code",
      "source": [
        "num1=int(input(\"enter the first number\"))\n",
        "num2=int(input(\"enter the second number\"))\n",
        "num3=int(input(\"enter the third number\"))\n",
        "if num1>num2:\n",
        "  print(num1,\"is greater\")\n",
        "elif num2>num3:\n",
        "  print(num2 ,\"is greater\")\n",
        "elif num3>num1:\n",
        "  print(num3,\" is larger\")\n"
      ],
      "metadata": {
        "colab": {
          "base_uri": "https://localhost:8080/"
        },
        "id": "xPp_scvpnY2k",
        "outputId": "21be6e34-d4e9-468c-e184-f87dc3b761e7"
      },
      "execution_count": 16,
      "outputs": [
        {
          "output_type": "stream",
          "name": "stdout",
          "text": [
            "enter the first number40\n",
            "enter the second number60\n",
            "enter the third number80\n",
            "80  is larger\n"
          ]
        }
      ]
    },
    {
      "cell_type": "code",
      "source": [
        "n1=int(input(\"enter the first number\"))\n",
        "if n1%2==0: \n",
        "  print(\"n1 is odd\")\n",
        "else:\n",
        "  print(\"n1 is even\")\n"
      ],
      "metadata": {
        "colab": {
          "base_uri": "https://localhost:8080/"
        },
        "id": "ytIH18GNrXEY",
        "outputId": "53dc6355-5813-4257-a38d-169de3c58023"
      },
      "execution_count": 18,
      "outputs": [
        {
          "output_type": "stream",
          "name": "stdout",
          "text": [
            "enter the first number20\n",
            "n1 is odd\n"
          ]
        }
      ]
    },
    {
      "cell_type": "code",
      "source": [
        "for i in range (1,11):\n",
        "  print(i)"
      ],
      "metadata": {
        "colab": {
          "base_uri": "https://localhost:8080/"
        },
        "id": "PplxoyU6v7PI",
        "outputId": "72decc86-11dc-4e7c-e9a0-15f456a18694"
      },
      "execution_count": 19,
      "outputs": [
        {
          "output_type": "stream",
          "name": "stdout",
          "text": [
            "1\n",
            "2\n",
            "3\n",
            "4\n",
            "5\n",
            "6\n",
            "7\n",
            "8\n",
            "9\n",
            "10\n"
          ]
        }
      ]
    },
    {
      "cell_type": "code",
      "source": [
        "\n",
        "\n",
        "  "
      ],
      "metadata": {
        "id": "y3ZNkOxNzkSd"
      },
      "execution_count": null,
      "outputs": []
    },
    {
      "cell_type": "code",
      "source": [],
      "metadata": {
        "id": "Hlac2D-N0MmR"
      },
      "execution_count": null,
      "outputs": []
    }
  ]
}