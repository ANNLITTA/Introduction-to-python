{
  "nbformat": 4,
  "nbformat_minor": 0,
  "metadata": {
    "colab": {
      "provenance": [],
      "collapsed_sections": [],
      "authorship_tag": "ABX9TyMdWWdiEvyh6VKzGrqtvOgK",
      "include_colab_link": true
    },
    "kernelspec": {
      "name": "python3",
      "display_name": "Python 3"
    },
    "language_info": {
      "name": "python"
    }
  },
  "cells": [
    {
      "cell_type": "markdown",
      "metadata": {
        "id": "view-in-github",
        "colab_type": "text"
      },
      "source": [
        "<a href=\"https://colab.research.google.com/github/ANNLITTA/Introduction-to-python/blob/main/Untitled0.ipynb\" target=\"_parent\"><img src=\"https://colab.research.google.com/assets/colab-badge.svg\" alt=\"Open In Colab\"/></a>"
      ]
    },
    {
      "cell_type": "code",
      "execution_count": 1,
      "metadata": {
        "colab": {
          "base_uri": "https://localhost:8080/"
        },
        "id": "yOm-B7ihdvO9",
        "outputId": "8617eff7-400d-4aa8-9370-cbbc733c65ff"
      },
      "outputs": [
        {
          "name": "stdout",
          "output_type": "stream",
          "text": [
            "50\n"
          ]
        }
      ],
      "source": [
        "mark=int(input())\n"
      ]
    },
    {
      "cell_type": "code",
      "source": [
        "if mark >50:\n",
        "  print(\"ypu are passed\")\n",
        "if mark <50:\n",
        "  print(\"you are failed\")"
      ],
      "metadata": {
        "id": "euLxTYXriL7N"
      },
      "execution_count": 2,
      "outputs": []
    },
    {
      "cell_type": "code",
      "source": [
        "salary=int(input())"
      ],
      "metadata": {
        "colab": {
          "base_uri": "https://localhost:8080/"
        },
        "id": "iizcg4cQjLp6",
        "outputId": "08e1f1c7-2eda-4ad2-fba9-2feef547cf5c"
      },
      "execution_count": 5,
      "outputs": [
        {
          "name": "stdout",
          "output_type": "stream",
          "text": [
            "2500000\n"
          ]
        }
      ]
    },
    {
      "cell_type": "code",
      "source": [
        "if salary ==2500000:\n",
        "  print(\"you are taxable\")\n",
        "if salary >2500000:\n",
        "  print(\"you are taxable\")\n",
        "if salary<2500000:\n",
        "  print(\"you are not taxable\")\n"
      ],
      "metadata": {
        "colab": {
          "base_uri": "https://localhost:8080/"
        },
        "id": "azX9bbTKm8ze",
        "outputId": "b30b9636-6fa4-4ef3-db4a-e92f3a39097c"
      },
      "execution_count": 9,
      "outputs": [
        {
          "output_type": "stream",
          "name": "stdout",
          "text": [
            "you are taxable\n"
          ]
        }
      ]
    },
    {
      "cell_type": "code",
      "source": [
        "if salary >=2500000:\n",
        "  print(\"you are taxable\")\n",
        "  print(salary*10/100)\n",
        "if salary <2500000:\n",
        "  print(\"you are taxable\")\n"
      ],
      "metadata": {
        "colab": {
          "base_uri": "https://localhost:8080/"
        },
        "id": "6pebS2r_rlmd",
        "outputId": "a1046427-e99e-4f50-a8bf-403d0d9d91a8"
      },
      "execution_count": 12,
      "outputs": [
        {
          "output_type": "stream",
          "name": "stdout",
          "text": [
            "you are taxable\n",
            "250000.0\n"
          ]
        }
      ]
    },
    {
      "cell_type": "code",
      "source": [
        "salary=int(input())"
      ],
      "metadata": {
        "colab": {
          "base_uri": "https://localhost:8080/"
        },
        "id": "ojRoCK6OsMSd",
        "outputId": "c48f4202-35df-4904-df51-d81c6c6b83dc"
      },
      "execution_count": 13,
      "outputs": [
        {
          "name": "stdout",
          "output_type": "stream",
          "text": [
            "300000\n"
          ]
        }
      ]
    },
    {
      "cell_type": "code",
      "source": [
        "salary=300000\n",
        "amount=300000-25000\n",
        "print(amount*10/100)"
      ],
      "metadata": {
        "colab": {
          "base_uri": "https://localhost:8080/"
        },
        "id": "npoSQRLVxAMx",
        "outputId": "3abd34cf-b7d1-420c-e4e1-05eb7e19d51b"
      },
      "execution_count": 14,
      "outputs": [
        {
          "output_type": "stream",
          "name": "stdout",
          "text": [
            "27500.0\n"
          ]
        }
      ]
    },
    {
      "cell_type": "code",
      "source": [],
      "metadata": {
        "id": "zIT4GYXm1RBK"
      },
      "execution_count": null,
      "outputs": []
    }
  ]
}