{
  "nbformat": 4,
  "nbformat_minor": 0,
  "metadata": {
    "colab": {
      "provenance": [],
      "authorship_tag": "ABX9TyMtu5S1YUe3f4AJq4LBcBKx",
      "include_colab_link": true
    },
    "kernelspec": {
      "name": "python3",
      "display_name": "Python 3"
    },
    "language_info": {
      "name": "python"
    }
  },
  "cells": [
    {
      "cell_type": "markdown",
      "metadata": {
        "id": "view-in-github",
        "colab_type": "text"
      },
      "source": [
        "<a href=\"https://colab.research.google.com/github/ANNLITTA/Introduction-to-python/blob/main/Untitled9.ipynb\" target=\"_parent\"><img src=\"https://colab.research.google.com/assets/colab-badge.svg\" alt=\"Open In Colab\"/></a>"
      ]
    },
    {
      "cell_type": "code",
      "execution_count": 1,
      "metadata": {
        "colab": {
          "base_uri": "https://localhost:8080/"
        },
        "id": "OGqSdL-EsoHT",
        "outputId": "e1802b7c-c08f-4b78-eb4a-0b6d56b045d6"
      },
      "outputs": [
        {
          "output_type": "stream",
          "name": "stdout",
          "text": [
            "fifa world cup\n"
          ]
        }
      ],
      "source": [
        "def x():\n",
        "  print(\"fifa world cup\")\n",
        "x()"
      ]
    },
    {
      "cell_type": "code",
      "source": [
        "def name(firstname,middlename,lastname):\n",
        "  print(firstname,middlename,lastname)\n",
        "name(\"x\",\"y\",\"z\")\n"
      ],
      "metadata": {
        "colab": {
          "base_uri": "https://localhost:8080/"
        },
        "id": "82S7jIQkwEHP",
        "outputId": "19053c8d-7e80-4a3b-ce63-76650f56abaf"
      },
      "execution_count": 7,
      "outputs": [
        {
          "output_type": "stream",
          "name": "stdout",
          "text": [
            "x y z\n"
          ]
        }
      ]
    },
    {
      "cell_type": "code",
      "source": [
        "def name(firstname,middlename,lastname):\n",
        "  print(lastname,middlename,lastname)\n",
        "name(lastname='z',middlename='y',firstname='x')\n"
      ],
      "metadata": {
        "colab": {
          "base_uri": "https://localhost:8080/"
        },
        "id": "Td-7IPsCxAe7",
        "outputId": "b8c521dd-f682-4079-887c-2a866f1c04ad"
      },
      "execution_count": 8,
      "outputs": [
        {
          "output_type": "stream",
          "name": "stdout",
          "text": [
            "z y z\n"
          ]
        }
      ]
    },
    {
      "cell_type": "code",
      "source": [
        "def football(*x):\n",
        "  print(\"second fav football player\",x[1])\n",
        "football(\"ronaldo\",\"messi\",\"neymar\")"
      ],
      "metadata": {
        "colab": {
          "base_uri": "https://localhost:8080/"
        },
        "id": "3qV5U1PHy2X_",
        "outputId": "4235031f-3e6e-4a76-a26c-f43989c63573"
      },
      "execution_count": 9,
      "outputs": [
        {
          "output_type": "stream",
          "name": "stdout",
          "text": [
            "second fav football player messi\n"
          ]
        }
      ]
    },
    {
      "cell_type": "code",
      "source": [
        "def team(c1,c2,c3='mexico'):\n",
        "  print(\"my favourite teams are \" +c1 +c2 +c3)\n",
        "team('norway','india')\n"
      ],
      "metadata": {
        "colab": {
          "base_uri": "https://localhost:8080/"
        },
        "id": "XD-ksrtaz7OU",
        "outputId": "4b666832-71af-46a4-c8b2-afc57c5d4319"
      },
      "execution_count": 13,
      "outputs": [
        {
          "output_type": "stream",
          "name": "stdout",
          "text": [
            "my favourite teams are norwayindiamexico\n"
          ]
        }
      ]
    },
    {
      "cell_type": "code",
      "source": [],
      "metadata": {
        "id": "t6uk9KnN3z7F"
      },
      "execution_count": null,
      "outputs": []
    }
  ]
}