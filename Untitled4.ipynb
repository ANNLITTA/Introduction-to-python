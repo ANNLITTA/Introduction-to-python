{
  "nbformat": 4,
  "nbformat_minor": 0,
  "metadata": {
    "colab": {
      "provenance": [],
      "authorship_tag": "ABX9TyMcRa6P7V8bZ2+xMmolnjk9",
      "include_colab_link": true
    },
    "kernelspec": {
      "name": "python3",
      "display_name": "Python 3"
    },
    "language_info": {
      "name": "python"
    }
  },
  "cells": [
    {
      "cell_type": "markdown",
      "metadata": {
        "id": "view-in-github",
        "colab_type": "text"
      },
      "source": [
        "<a href=\"https://colab.research.google.com/github/ANNLITTA/Introduction-to-python/blob/main/Untitled4.ipynb\" target=\"_parent\"><img src=\"https://colab.research.google.com/assets/colab-badge.svg\" alt=\"Open In Colab\"/></a>"
      ]
    },
    {
      "cell_type": "code",
      "execution_count": 1,
      "metadata": {
        "colab": {
          "base_uri": "https://localhost:8080/"
        },
        "id": "l1bjV846ndoV",
        "outputId": "122e4b45-9e15-4bb2-db52-96910cf6cb61"
      },
      "outputs": [
        {
          "output_type": "stream",
          "name": "stdout",
          "text": [
            "enter the passengers travel sourcekochi\n",
            "enter the travel destinationbangalore\n",
            "enter the number of passengers45\n",
            "kochi\n",
            "bangalore\n",
            "45\n"
          ]
        }
      ],
      "source": [
        "x=input(\"enter the passengers travel source\")\n",
        "y=input(\"enter the travel destination\")\n",
        "z=input(\"enter the number of passengers\")\n",
        "print(x)\n",
        "print(y)\n",
        "print(z)"
      ]
    },
    {
      "cell_type": "code",
      "source": [
        "x=input(\"enter the total ticket fare\")\n",
        "y=input(\"enter the number fare passengers\")\n",
        "z=input(\"enter the ticket fare per person\")\n",
        "print(x)\n",
        "print(y)\n",
        "print(z)"
      ],
      "metadata": {
        "colab": {
          "base_uri": "https://localhost:8080/"
        },
        "id": "YA55zbyrqK_H",
        "outputId": "9c7ec21b-c298-4978-9aa9-a24b13ab05b7"
      },
      "execution_count": 4,
      "outputs": [
        {
          "output_type": "stream",
          "name": "stdout",
          "text": [
            "enter the total ticket fare2000\n",
            "enter the number fare passengers10\n",
            "enter the ticket fare per person300\n",
            "2000\n",
            "10\n",
            "300\n"
          ]
        }
      ]
    },
    {
      "cell_type": "code",
      "source": [
        "x=input(\"enter the passengers name\")\n",
        "y=input(\"enter the ticket fare\")\n",
        "print(\"passengers name\",x,\"ticket fare\",y)"
      ],
      "metadata": {
        "colab": {
          "base_uri": "https://localhost:8080/"
        },
        "id": "s-wyT8bOrICp",
        "outputId": "1e18997f-88c9-4ea4-b037-8b9a5679c913"
      },
      "execution_count": 6,
      "outputs": [
        {
          "output_type": "stream",
          "name": "stdout",
          "text": [
            "enter the passengers nameannlitta\n",
            "enter the ticket fare1000\n",
            "passengers name annlitta ticket fare 1000\n"
          ]
        }
      ]
    },
    {
      "cell_type": "code",
      "source": [
        "x=int(input(\"enter a ticket fare\"))\n",
        "if x>10000:\n",
        "  print(\"eligible for discount\")\n",
        "else:\n",
        "  print(\"not eligible for discount\")"
      ],
      "metadata": {
        "colab": {
          "base_uri": "https://localhost:8080/"
        },
        "id": "Leb1iFRtssPR",
        "outputId": "b5f5b455-d6d8-4099-c731-68bb1d404e95"
      },
      "execution_count": 11,
      "outputs": [
        {
          "output_type": "stream",
          "name": "stdout",
          "text": [
            "enter a ticket fare15000\n",
            "eligible for discount\n"
          ]
        }
      ]
    },
    {
      "cell_type": "code",
      "source": [
        "x=int(input(\"enter the total ticket fare\"))\n",
        "if x>15000:\n",
        "  print(\"eligible for 20% discount\")\n",
        "else:\n",
        "  print(\"not eligible\")\n",
        " "
      ],
      "metadata": {
        "colab": {
          "base_uri": "https://localhost:8080/"
        },
        "id": "83LOBoeSvc7q",
        "outputId": "2c5cd3c8-5b2c-4ca3-9d1d-a288f35dd620"
      },
      "execution_count": 12,
      "outputs": [
        {
          "output_type": "stream",
          "name": "stdout",
          "text": [
            "enter the total ticket fare10000\n",
            "not eligible\n"
          ]
        }
      ]
    },
    {
      "cell_type": "code",
      "source": [
        "x=int(input(\"enter the discount fares\"))\n",
        "if x>15000:\n",
        "  print(\"eligible for 20%\")\n",
        "elif x>10000:\n",
        "  print(\"eligible for 10%\")\n",
        "else:\n",
        "  print(\"eligible for 5%\")"
      ],
      "metadata": {
        "colab": {
          "base_uri": "https://localhost:8080/"
        },
        "id": "2u4bzbGWx1_f",
        "outputId": "56ab8cd0-73e7-4f18-9704-c57a233cfb6d"
      },
      "execution_count": 13,
      "outputs": [
        {
          "output_type": "stream",
          "name": "stdout",
          "text": [
            "enter the discount fares30000\n",
            "eligible for 20%\n"
          ]
        }
      ]
    },
    {
      "cell_type": "code",
      "source": [
        "x=int(input(\"enter a value\"))\n",
        "if x>0:\n",
        "  print(\"the number is postive\")\n",
        "elif x<0:\n",
        "  print(\"the number is negative\")\n",
        "else:\n",
        "  print(\"the number is zero\")\n"
      ],
      "metadata": {
        "colab": {
          "base_uri": "https://localhost:8080/"
        },
        "id": "CTxcLcKh0vI6",
        "outputId": "466ac572-66f7-4626-a1b0-60d98b2a9e35"
      },
      "execution_count": 15,
      "outputs": [
        {
          "output_type": "stream",
          "name": "stdout",
          "text": [
            "enter a value30\n",
            "the number is postive\n"
          ]
        }
      ]
    },
    {
      "cell_type": "code",
      "source": [
        "x=int(input(\"enter the age\"))\n",
        "if x>=18:\n",
        "  print(\"adult\")\n",
        "elif x>13 and x<18:\n",
        "  print(\"teenager\")\n",
        "elif x>=6 and x<=12:\n",
        "  print(\"kid\")\n",
        "elif x>=2 and x<=6:\n",
        "  print(\"toodler\")\n",
        "else:\n",
        "  print(\"infant\")"
      ],
      "metadata": {
        "colab": {
          "base_uri": "https://localhost:8080/"
        },
        "id": "7Tyhu79g389F",
        "outputId": "b05009ea-e725-4ac7-d24f-d27c37267d7c"
      },
      "execution_count": 19,
      "outputs": [
        {
          "output_type": "stream",
          "name": "stdout",
          "text": [
            "enter the age18\n",
            "adult\n"
          ]
        }
      ]
    },
    {
      "cell_type": "code",
      "source": [
        "x=int(input(\"enter starting value\"))\n",
        "y=int(input(\"enter the ending value\"))\n"
      ],
      "metadata": {
        "id": "3Y8jU9yu6IUe"
      },
      "execution_count": 19,
      "outputs": []
    }
  ]
}