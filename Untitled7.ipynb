{
  "nbformat": 4,
  "nbformat_minor": 0,
  "metadata": {
    "colab": {
      "provenance": [],
      "authorship_tag": "ABX9TyPm6pFgzGwbWzaseuinSoEn",
      "include_colab_link": true
    },
    "kernelspec": {
      "name": "python3",
      "display_name": "Python 3"
    },
    "language_info": {
      "name": "python"
    }
  },
  "cells": [
    {
      "cell_type": "markdown",
      "metadata": {
        "id": "view-in-github",
        "colab_type": "text"
      },
      "source": [
        "<a href=\"https://colab.research.google.com/github/ANNLITTA/Introduction-to-python/blob/main/Untitled7.ipynb\" target=\"_parent\"><img src=\"https://colab.research.google.com/assets/colab-badge.svg\" alt=\"Open In Colab\"/></a>"
      ]
    },
    {
      "cell_type": "code",
      "execution_count": 3,
      "metadata": {
        "colab": {
          "base_uri": "https://localhost:8080/"
        },
        "id": "sKuLfifiqJdj",
        "outputId": "33fa8cf8-9f18-4d65-9171-eb29dee5f919"
      },
      "outputs": [
        {
          "output_type": "stream",
          "name": "stdout",
          "text": [
            "enter the numberto display the corresponding multiplication5\n",
            "1 * 5 = 5\n",
            "2 * 5 = 10\n",
            "3 * 5 = 15\n",
            "4 * 5 = 20\n",
            "5 * 5 = 25\n",
            "6 * 5 = 30\n",
            "7 * 5 = 35\n",
            "8 * 5 = 40\n",
            "9 * 5 = 45\n",
            "10 * 5 = 50\n"
          ]
        }
      ],
      "source": [
        "num=int(input(\"enter the numberto display the corresponding multiplication\"))\n",
        "for i in range(1,11):\n",
        "  print(i,\"*\",num,\"=\",i*num)"
      ]
    },
    {
      "cell_type": "code",
      "source": [
        "num=int(input())\n",
        "i=1\n",
        "while(i<=10):\n",
        "  print(i*num)\n",
        "  i=i+1\n"
      ],
      "metadata": {
        "colab": {
          "base_uri": "https://localhost:8080/"
        },
        "id": "Zk8LgGOguSqk",
        "outputId": "041d311f-768c-4834-d5ed-e421ddebcdc1"
      },
      "execution_count": 4,
      "outputs": [
        {
          "output_type": "stream",
          "name": "stdout",
          "text": [
            "6\n",
            "6\n",
            "12\n",
            "18\n",
            "24\n",
            "30\n",
            "36\n",
            "42\n",
            "48\n",
            "54\n",
            "60\n"
          ]
        }
      ]
    },
    {
      "cell_type": "code",
      "source": [
        "num=input(\"Enter the number: \")\n",
        "k=0\n",
        "for i in num:\n",
        "  k=k+1\n",
        "print(k)"
      ],
      "metadata": {
        "colab": {
          "base_uri": "https://localhost:8080/"
        },
        "id": "ke5sF70Aywua",
        "outputId": "39b72d52-d11f-4bce-ac7b-e4cdf9d29a68"
      },
      "execution_count": 7,
      "outputs": [
        {
          "output_type": "stream",
          "name": "stdout",
          "text": [
            "Enter the number: 7\n",
            "1\n"
          ]
        }
      ]
    },
    {
      "cell_type": "code",
      "source": [
        "num=input(\"enter the number\")\n",
        "d=0\n",
        "for i in num:\n",
        "  print(i)\n",
        "  d=d+1\n",
        "print(d)\n"
      ],
      "metadata": {
        "colab": {
          "base_uri": "https://localhost:8080/"
        },
        "id": "wKKDv5Ry12Jz",
        "outputId": "53c694b1-4360-4788-c62d-70cf2f580f8e"
      },
      "execution_count": 9,
      "outputs": [
        {
          "output_type": "stream",
          "name": "stdout",
          "text": [
            "enter the number1547\n",
            "1\n",
            "5\n",
            "4\n",
            "7\n",
            "4\n"
          ]
        }
      ]
    },
    {
      "cell_type": "code",
      "source": [
        "string=input((\"enter string: \"))\n",
        "reversestring= \"\"\n",
        "for i in string:\n",
        "    reversestring = i + reversestring\n",
        "print(\"reverse string: \",reversestring)      \n",
        "if (string == reversestring):\n",
        "    print(\"the string is palindrome\")\n",
        "else:\n",
        "    print(\"the string is not palindrome\")\n"
      ],
      "metadata": {
        "colab": {
          "base_uri": "https://localhost:8080/"
        },
        "id": "zzqAwwuR4FYL",
        "outputId": "d1f2402d-2bc8-4884-a716-8c3ad7373604"
      },
      "execution_count": 10,
      "outputs": [
        {
          "output_type": "stream",
          "name": "stdout",
          "text": [
            "enter string: annlitta\n",
            "reverse string:  attilnna\n",
            "the string is not palindrome\n"
          ]
        }
      ]
    },
    {
      "cell_type": "code",
      "source": [
        "name=input((\"enter user name: \"))\n",
        "name=name.replace(\"a\",\"k\")\n",
        "print(name)\n",
        "\n",
        "\n",
        "\n",
        "\n",
        "name=input((\"enter username: \"))\n",
        "if name.isupper():\n",
        "  print(\"Upper case\") \n",
        "  print(name.lower())\n",
        "if name.islower():\n",
        "  print(\"lower case\")\n",
        "  print(name.upper())\n",
        "\n",
        "  "
      ],
      "metadata": {
        "colab": {
          "base_uri": "https://localhost:8080/"
        },
        "id": "I6NFk5Yi7WcL",
        "outputId": "64ecbb97-894f-4ace-8334-b6ad3cbabb62"
      },
      "execution_count": 11,
      "outputs": [
        {
          "output_type": "stream",
          "name": "stdout",
          "text": [
            "enter user name: annlitta\n",
            "knnlittk\n",
            "enter username: annlitta\n",
            "lower case\n",
            "ANNLITTA\n"
          ]
        }
      ]
    },
    {
      "cell_type": "code",
      "source": [
        "string=input((\"enter string: \"))\n",
        "reversestring= \"\"\n",
        "for i in string:\n",
        "    reversestring = i + reversestring\n",
        "print(\"reverse string: \",reversestring)      \n",
        "if (string == reversestring):\n",
        "    print(\"the string is palindrome\")\n",
        "else:\n",
        "    print(\"the string is not palindrome\")\n"
      ],
      "metadata": {
        "colab": {
          "base_uri": "https://localhost:8080/"
        },
        "id": "VCfAgG1DEMKY",
        "outputId": "c740f9d5-af2e-43c5-b4a9-0469f9b6cf43"
      },
      "execution_count": 12,
      "outputs": [
        {
          "output_type": "stream",
          "name": "stdout",
          "text": [
            "enter string: annlitta\n",
            "reverse string:  attilnna\n",
            "the string is not palindrome\n"
          ]
        }
      ]
    },
    {
      "cell_type": "code",
      "source": [],
      "metadata": {
        "id": "AHah8bIgEaa2"
      },
      "execution_count": null,
      "outputs": []
    }
  ]
}