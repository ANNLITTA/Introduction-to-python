{
  "nbformat": 4,
  "nbformat_minor": 0,
  "metadata": {
    "colab": {
      "provenance": [],
      "authorship_tag": "ABX9TyOYRuAc3y6+ntfJCe8iOoEs",
      "include_colab_link": true
    },
    "kernelspec": {
      "name": "python3",
      "display_name": "Python 3"
    },
    "language_info": {
      "name": "python"
    }
  },
  "cells": [
    {
      "cell_type": "markdown",
      "metadata": {
        "id": "view-in-github",
        "colab_type": "text"
      },
      "source": [
        "<a href=\"https://colab.research.google.com/github/ANNLITTA/Introduction-to-python/blob/main/Untitled6.ipynb\" target=\"_parent\"><img src=\"https://colab.research.google.com/assets/colab-badge.svg\" alt=\"Open In Colab\"/></a>"
      ]
    },
    {
      "cell_type": "code",
      "execution_count": 2,
      "metadata": {
        "colab": {
          "base_uri": "https://localhost:8080/"
        },
        "id": "5yUpM7rigTu3",
        "outputId": "632b6d8a-0fec-4ba9-bdbf-808bdf194f95"
      },
      "outputs": [
        {
          "output_type": "stream",
          "name": "stdout",
          "text": [
            "enter a number-10\n",
            "absolute value of 10 is 10\n"
          ]
        }
      ],
      "source": [
        "num=int(input(\"enter a number\"))\n",
        "if(num>0):\n",
        "  print(\"absolute value of,num,\"is\",num \")\n",
        "else:\n",
        "  num=num*(-1)\n",
        "  print(\"absolute value of\",num,\"is\",num)\n"
      ]
    },
    {
      "cell_type": "code",
      "source": [
        "\n",
        "x=int(input(\"enter the no.of classes\"))\n",
        "y=int(input(\"enter the no.of classes attended\"))\n",
        "z= y/x*100\n",
        "if z>=75:\n",
        "  print(\"u r allowed to write exam\")\n",
        "else:\n",
        "  print(\"u r not allowed to write exam\")"
      ],
      "metadata": {
        "colab": {
          "base_uri": "https://localhost:8080/"
        },
        "id": "MVuol6aNkuEa",
        "outputId": "ee6aad2f-ea72-4a56-d9b8-b929a2981fe5"
      },
      "execution_count": 3,
      "outputs": [
        {
          "output_type": "stream",
          "name": "stdout",
          "text": [
            "enter the no.of classes30\n",
            "enter the no.of classes attended28\n",
            "u r allowed to write exam\n"
          ]
        }
      ]
    },
    {
      "cell_type": "code",
      "source": [
        "\n",
        "print(\"1.addition\")\n",
        "print(\"2.subtraction\")\n",
        "print(\"3.multiplication\")\n",
        "print(\"4.division\")\n",
        "print(\"5.modulus\")\n",
        "print(\"6.floor division\")\n",
        "print(\"7.exponent\")\n",
        "x=int(input(\"select a number\"))\n",
        "m1=int(input(\"enter a number\"))\n",
        "m2=int(input(\"enter a number\"))\n",
        "if x==1:\n",
        "  print(m1+m2)\n",
        "if x==2:\n",
        "  print(m1-m2)\n",
        "if x==3:\n",
        "  print(m1*m2)\n",
        "if x==4:\n",
        "  print(m1/m2)\n",
        "if x==5:\n",
        "  print(m1%m2)   \n",
        "if x==6:\n",
        "  print(m1//m2)\n",
        "if x==7:\n",
        "  print(m1**m2)       \n",
        "else:\n",
        "  print(\"thank you\")\n",
        "  "
      ],
      "metadata": {
        "colab": {
          "base_uri": "https://localhost:8080/"
        },
        "id": "f6tXT7tlsXUL",
        "outputId": "6f8821ba-b59c-4f12-f50b-2e80f2e4f79c"
      },
      "execution_count": 4,
      "outputs": [
        {
          "output_type": "stream",
          "name": "stdout",
          "text": [
            "1.addition\n",
            "2.subtraction\n",
            "3.multiplication\n",
            "4.division\n",
            "5.modulus\n",
            "6.floor division\n",
            "7.exponent\n",
            "select a number3\n",
            "enter a number10\n",
            "enter a number20\n",
            "200\n",
            "thank you\n"
          ]
        }
      ]
    },
    {
      "cell_type": "code",
      "source": [
        "m1=int(input('Enter marks of first subject '))\n",
        "m2=int(input('Enter marks of second subject '))\n",
        "m3=int(input('Enter marks of third subject '))\n",
        "m4=int(input('Enter marks of fourth subject '))\n",
        "m5=int(input('Enter marks of fifth subject '))\n",
        "print('Least marks:',min(m1,m2,m3,m4,m5))\n",
        "print('Maximum marks:',max(m1,m2,m3,m4,m5))"
      ],
      "metadata": {
        "colab": {
          "base_uri": "https://localhost:8080/"
        },
        "id": "5c48miV_u9X5",
        "outputId": "d88039f2-9ae0-4124-b4a5-43b12c4419fd"
      },
      "execution_count": 5,
      "outputs": [
        {
          "output_type": "stream",
          "name": "stdout",
          "text": [
            "Enter marks of first subject 40\n",
            "Enter marks of second subject 38\n",
            "Enter marks of third subject 36\n",
            "Enter marks of fourth subject 35\n",
            "Enter marks of fifth subject 34\n",
            "Least marks: 34\n",
            "Maximum marks: 40\n"
          ]
        }
      ]
    },
    {
      "cell_type": "code",
      "source": [
        "x=input(\"enter a username\")\n",
        "\n"
      ],
      "metadata": {
        "id": "W_ZaywcE1-kJ"
      },
      "execution_count": null,
      "outputs": []
    }
  ]
}